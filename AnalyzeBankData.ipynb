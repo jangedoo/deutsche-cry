{
 "cells": [
  {
   "cell_type": "code",
   "execution_count": null,
   "metadata": {},
   "outputs": [],
   "source": [
    "import pandas as pd\n",
    "import matplotlib.pyplot as plt\n",
    "import plotly.offline as py\n",
    "from plotly.offline import init_notebook_mode\n",
    "import plotly.graph_objs as go\n",
    "import ipywidgets as widgets\n",
    "from IPython.html.widgets.interaction import interact\n",
    "%matplotlib inline\n",
    "init_notebook_mode()"
   ]
  },
  {
   "cell_type": "code",
   "execution_count": null,
   "metadata": {},
   "outputs": [],
   "source": [
    "# path to csv file downloaded from Deutsche bank\n",
    "filename = \"./Transactions.csv\""
   ]
  },
  {
   "cell_type": "code",
   "execution_count": null,
   "metadata": {},
   "outputs": [],
   "source": [
    "cols = [\"Value date\", \"Transaction Type\", \"Beneficiary / Originator\", \"Payment Details\", \"IBAN\", \"Customer Reference\", \"Debit\", \"Credit\"]\n",
    "df = pd.read_csv(filename, \n",
    "                 skiprows=4,\n",
    "                 sep=\";\", \n",
    "                 encoding='latin1', \n",
    "                 usecols=cols, \n",
    "                 index_col=\"Value date\",\n",
    "                )\n",
    "df.index = pd.to_datetime(df.index, format='%m/%d/%Y')\n",
    "\n",
    "# parse old balance in the beginning\n",
    "def parse_old_balance(filename):\n",
    "    with open(filename, 'r') as f:\n",
    "        next(f);next(f);\n",
    "        line = f.readline()\n",
    "        return line.split(\";\")[-2]\n",
    "old_balance = parse_old_balance(filename)\n",
    "old_balance_df = pd.DataFrame({'Transaction Type': 'Old Balance', 'Credit': old_balance}, index=[df.index[0]])\n",
    "df = pd.concat([old_balance_df, df], sort=True)\n",
    "df.head(10)"
   ]
  },
  {
   "cell_type": "code",
   "execution_count": null,
   "metadata": {},
   "outputs": [],
   "source": [
    "df['Credit'] = df['Credit'].apply(lambda x: float(str(x).replace(',', '')))\n",
    "df['Debit'] = df['Debit'].apply(lambda x: float(str(x).replace(',', ''))).abs()\n",
    "expense_df = df[pd.isna(df['Credit'])].dropna(subset=['Debit'])\n",
    "income_df = df[pd.isna(df['Debit'])].dropna(subset=['Credit'])"
   ]
  },
  {
   "cell_type": "code",
   "execution_count": null,
   "metadata": {},
   "outputs": [],
   "source": [
    "# make sure that the output of this cell is same as in the\n",
    "# total balance shown in your bank account (discarding 'pending transactions')\n",
    "income_df['Credit'].sum() - expense_df['Debit'].sum()"
   ]
  },
  {
   "cell_type": "markdown",
   "metadata": {},
   "source": [
    "# Monthly Income vs Expense report"
   ]
  },
  {
   "cell_type": "markdown",
   "metadata": {},
   "source": [
    "## This plot shows your incomes vs expenses for each month"
   ]
  },
  {
   "cell_type": "code",
   "execution_count": null,
   "metadata": {},
   "outputs": [],
   "source": [
    "income_per_month = df[\"Credit\"].resample(\"M\", kind=\"period\").sum()\n",
    "expense_per_month = df[\"Debit\"].resample(\"M\", kind=\"period\").sum()\n",
    "\n",
    "data = [go.Bar(x=income_per_month.index.to_timestamp(), y=income_per_month.values, name='income'), \n",
    "        go.Bar(x=expense_per_month.index.to_timestamp(), y=expense_per_month.values, name='expense')]\n",
    "py.iplot(data)"
   ]
  },
  {
   "cell_type": "markdown",
   "metadata": {},
   "source": [
    "## This plot shows your income vs expense summed over throughout the months. \n",
    "You can get an idea of how much you have earned and spent till the given month in total. For e.g. if you are looking at\n",
    "the values in October, then it shows how much you have earned/spent till the end of October from the beginning"
   ]
  },
  {
   "cell_type": "code",
   "execution_count": null,
   "metadata": {},
   "outputs": [],
   "source": [
    "income_per_month_cumsum = income_per_month.cumsum()\n",
    "expense_per_month_cum_sum = expense_per_month.cumsum()\n",
    "data = [go.Bar(x=income_per_month_cumsum.index.to_timestamp(), y=income_per_month_cumsum.values, name='income'), \n",
    "        go.Bar(x=expense_per_month_cum_sum.index.to_timestamp(), y=expense_per_month_cum_sum.values, name='expense')]\n",
    "py.iplot(data)"
   ]
  },
  {
   "cell_type": "markdown",
   "metadata": {},
   "source": [
    "## Income vs expense where savings from previous month is accumulated"
   ]
  },
  {
   "cell_type": "code",
   "execution_count": null,
   "metadata": {},
   "outputs": [],
   "source": [
    "starting_balance_for_next_month = (income_per_month_cumsum - expense_per_month_cum_sum).shift(1).fillna(0)\n",
    "added_income_per_month = starting_balance_for_next_month + income_per_month\n",
    "\n",
    "data = [go.Bar(x=added_income_per_month.index.to_timestamp(), y=added_income_per_month.values, name=\"income with savings\"),\n",
    "        go.Scatter(x=income_per_month.index.to_timestamp(), y=income_per_month.values, name='income'),\n",
    "        go.Bar(x=expense_per_month.index.to_timestamp(), y=expense_per_month.values, name='expense')]\n",
    "py.iplot(data)"
   ]
  },
  {
   "cell_type": "markdown",
   "metadata": {},
   "source": [
    "# Top income sources"
   ]
  },
  {
   "cell_type": "code",
   "execution_count": null,
   "metadata": {},
   "outputs": [],
   "source": [
    "# pd.Grouper(freq='M') for grouping by index column\n",
    "top_income_sources = income_df.groupby(by=['Beneficiary / Originator'])['Credit'].sum()\n",
    "data = [go.Pie(labels=top_income_sources.index, values=top_income_sources.values)]\n",
    "py.iplot(data)"
   ]
  },
  {
   "cell_type": "markdown",
   "metadata": {},
   "source": [
    "# Top expense sources\n",
    "Where do you spend the most?"
   ]
  },
  {
   "cell_type": "code",
   "execution_count": null,
   "metadata": {},
   "outputs": [],
   "source": [
    "import re\n",
    "\n",
    "# key is the expense's name and value is a list of regex\n",
    "expense_sources_regexes = {\n",
    "    'groceries': ['penny', 'rewe', 'aldi', 'lidl', 'netto'],\n",
    "    'shopping': ['amazon', 'karstadt', 'galleria', 'rossmann'],\n",
    "    'paypal': ['paypal'],\n",
    "    'insurance': ['krankenkasse'],\n",
    "    'phone': ['telefonica', 'drillisch'],\n",
    "    'cash withdrawal': ['cash\\s+withdrawal'],\n",
    "    'rent': ['studierendenwerk\\s+darmstadt']\n",
    "}\n",
    "\n",
    "def parse_expense_source(text):\n",
    "    for k, regexes in expense_sources_regexes.items():\n",
    "        for r in regexes:\n",
    "            if re.findall(r, text, re.I):\n",
    "                return k\n",
    "    return None\n",
    "\n",
    "\n",
    "transaction_texts = expense_df['Beneficiary / Originator'].fillna(\" \") + \" \" + expense_df['Payment Details'].fillna(\" \") + \" \" + expense_df['Transaction Type'].fillna(\" \")\n",
    "expense_df['Expense Source'] = transaction_texts.map(parse_expense_source)\n",
    "# if expense source could not be identified as known expense source using `parse_expense_source`\n",
    "# then use value from `Beneficiary / Originator` column as the expense source\n",
    "# if that is also empty then put the text 'other' as expense source\n",
    "expense_df['Expense Source'] = expense_df['Expense Source'].fillna(expense_df['Beneficiary / Originator']).fillna(\"other\")"
   ]
  },
  {
   "cell_type": "code",
   "execution_count": null,
   "metadata": {},
   "outputs": [],
   "source": [
    "def plot_expense_report(month):\n",
    "    if month == 'All':\n",
    "        top_expense_sources = expense_df.groupby(by=['Expense Source'])['Debit'].sum()\n",
    "    else:\n",
    "        top_expense_sources = expense_df[month].groupby(by=['Expense Source'])['Debit'].sum()\n",
    "    \n",
    "    top_expense_sources = top_expense_sources.sort_values(ascending=False)[:15]\n",
    "    data = [go.Pie(labels=top_expense_sources.index, values=top_expense_sources.values)]\n",
    "    py.iplot(data)\n",
    "\n",
    "labels = ['All'] + list(expense_df.index.to_period(freq='M').unique().map(str))\n",
    "month_widget = widgets.Dropdown(options=dict(zip(labels, labels)), value=labels[0])\n",
    "\n",
    "_ = interact(plot_expense_report, month=month_widget)"
   ]
  },
  {
   "cell_type": "markdown",
   "metadata": {},
   "source": [
    "# Expense breakdown by expense source\n",
    "Compare how much you spend per 'expense source (rent, groceries etc.)' for a given range"
   ]
  },
  {
   "cell_type": "code",
   "execution_count": null,
   "metadata": {},
   "outputs": [],
   "source": [
    "def plot_comparison(expense, **kwargs):\n",
    "    print(expense, kwargs)\n",
    "    if not expense:\n",
    "        return\n",
    "    date1, date2 = kwargs['from_date'], kwargs['till_date']\n",
    "    \n",
    "    try:\n",
    "        filtered = expense_df[expense_df['Expense Source'] == expense][date1: date2]['Debit'].resample(\"M\", kind=\"period\").sum()\n",
    "        bar = go.Scatter(x=filtered.index.to_timestamp(), y=filtered.values, name=expense, )\n",
    "\n",
    "        py.iplot([bar])\n",
    "    except (KeyError, AttributeError) as e:\n",
    "        print(\"No data found for \", expense, date1, date2)\n",
    "\n",
    "labels = expense_df['Expense Source'].unique()\n",
    "labels.sort()\n",
    "expenses_widget = widgets.Dropdown(options=dict(zip(labels, labels)))\n",
    "\n",
    "labels = expense_df.index.to_period(freq='M').unique().map(str)\n",
    "date1_widget = widgets.Dropdown(options=dict(zip(labels, labels)), value=labels[0])\n",
    "date2_widget = widgets.Dropdown(options=dict(zip(labels[1:], labels[1:])), value = labels[-1])\n",
    "\n",
    "_ = interact(plot_comparison, expense=expenses_widget, from_date=date1_widget, till_date=date2_widget)"
   ]
  },
  {
   "cell_type": "code",
   "execution_count": null,
   "metadata": {},
   "outputs": [],
   "source": []
  }
 ],
 "metadata": {
  "kernelspec": {
   "display_name": "Python 3",
   "language": "python",
   "name": "python3"
  },
  "language_info": {
   "codemirror_mode": {
    "name": "ipython",
    "version": 3
   },
   "file_extension": ".py",
   "mimetype": "text/x-python",
   "name": "python",
   "nbconvert_exporter": "python",
   "pygments_lexer": "ipython3",
   "version": "3.6.5"
  }
 },
 "nbformat": 4,
 "nbformat_minor": 2
}
